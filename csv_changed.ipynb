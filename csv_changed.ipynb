{
 "cells": [
  {
   "cell_type": "code",
   "execution_count": 3,
   "id": "4de4da5e-4929-4bdb-a452-c5b69201b328",
   "metadata": {},
   "outputs": [],
   "source": [
    "import pandas as pd  \n",
    "\n",
    "def change():  \n",
    "    # 定义文件路径  \n",
    "    file1_path = 'imagenet_class_index.csv'  \n",
    "    file2_path = 'miniimagenet/label-mapping-relation.csv'  \n",
    "    output_path = 'miniimagenet/label_mapping_relation_with_chinese.csv'  \n",
    "\n",
    "    try:  \n",
    "        # 读取文件一  \n",
    "        file1 = pd.read_csv(file1_path)  \n",
    "        print(f\"成功读取文件: {file1_path}\")  \n",
    "\n",
    "        # 检查文件一是否包含所需的列  \n",
    "        required_columns_file1 = ['wordnet', 'Chinese']  \n",
    "        if not all(col in file1.columns for col in required_columns_file1):  \n",
    "            raise ValueError(f\"文件 {file1_path} 中缺少以下列: {', '.join(required_columns_file1)}\")  \n",
    "\n",
    "        # 读取文件二  \n",
    "        file2 = pd.read_csv(file2_path)  \n",
    "        print(f\"成功读取文件: {file2_path}\")  \n",
    "\n",
    "        # 检查文件二是否包含\"name\"列  \n",
    "        if 'name' not in file2.columns:  \n",
    "            raise ValueError(f\"文件 {file2_path} 中缺少 'name' 列\")  \n",
    "\n",
    "        # 创建字典：wordnet -> Chinese  \n",
    "        wordnet_to_chinese = dict(zip(file1['wordnet'], file1['Chinese']))  \n",
    "\n",
    "        # 检查是否有重复的 wordnet 值  \n",
    "        if len(file1['wordnet'].unique()) != len(file1['wordnet']):  \n",
    "            print(\"警告: 文件一中 'wordnet' 列存在重复值，可能会导致映射错误。\")  \n",
    "\n",
    "        # 将文件二的 'name' 列映射为 Chinese  \n",
    "        file2['Chinese'] = file2['name'].map(wordnet_to_chinese)  \n",
    "\n",
    "        # 检查是否有无法映射的值  \n",
    "        null_count = file2['Chinese'].isnull().sum()  \n",
    "        if null_count > 0:  \n",
    "            print(f\"警告: 有 {null_count} 个 'name' 值无法找到对应的 Chinese 名称。\")  \n",
    "\n",
    "        # 保存结果  \n",
    "        file2.to_csv(output_path, index=False)  \n",
    "        print(f\"已成功将文件保存为: {output_path}\")  \n",
    "\n",
    "    except FileNotFoundError:  \n",
    "        print(\"错误: 找不到文件。请检查以下路径是否存在:\")  \n",
    "        print(f\"- {file1_path}\")  \n",
    "        print(f\"- {file2_path}\")  \n",
    "    except PermissionError:  \n",
    "        print(\"错误: 没有权限读取或写入文件。请检查文件权限。\")  \n",
    "    except KeyError as e:  \n",
    "        print(f\"错误: 数据中缺少关键列 '{e}'。请检查文件格式是否正确。\")  \n",
    "    except Exception as e:  \n",
    "        print(f\"发生了意外错误: {str(e)}\")  \n"
   ]
  },
  {
   "cell_type": "code",
   "execution_count": 4,
   "id": "e26258bc-6dae-4203-ae12-64d29035300e",
   "metadata": {},
   "outputs": [
    {
     "name": "stdout",
     "output_type": "stream",
     "text": [
      "成功读取文件: imagenet_class_index.csv\n",
      "成功读取文件: miniimagenet/label-mapping-relation.csv\n",
      "已成功将文件保存为: miniimagenet/label_mapping_relation_with_chinese.csv\n"
     ]
    }
   ],
   "source": [
    "change()"
   ]
  },
  {
   "cell_type": "code",
   "execution_count": null,
   "id": "16ea32a9-ac98-4614-b338-109491354103",
   "metadata": {},
   "outputs": [],
   "source": []
  }
 ],
 "metadata": {
  "kernelspec": {
   "display_name": "Python 3 (ipykernel)",
   "language": "python",
   "name": "python3"
  },
  "language_info": {
   "codemirror_mode": {
    "name": "ipython",
    "version": 3
   },
   "file_extension": ".py",
   "mimetype": "text/x-python",
   "name": "python",
   "nbconvert_exporter": "python",
   "pygments_lexer": "ipython3",
   "version": "3.11.8"
  }
 },
 "nbformat": 4,
 "nbformat_minor": 5
}
