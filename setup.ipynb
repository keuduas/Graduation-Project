{
 "cells": [
  {
   "cell_type": "code",
   "execution_count": 1,
   "id": "347aba90-c04c-449f-8aab-cfb6406ce48c",
   "metadata": {},
   "outputs": [
    {
     "name": "stdout",
     "output_type": "stream",
     "text": [
      "Looking in indexes: https://pypi.tuna.tsinghua.edu.cn/simple\n",
      "Requirement already satisfied: numpy in /environment/miniconda3/lib/python3.11/site-packages (1.26.4)\n",
      "Requirement already satisfied: pandas in /environment/miniconda3/lib/python3.11/site-packages (2.2.2)\n",
      "Requirement already satisfied: matplotlib in /environment/miniconda3/lib/python3.11/site-packages (3.9.0)\n",
      "Requirement already satisfied: requests in /environment/miniconda3/lib/python3.11/site-packages (2.31.0)\n",
      "Requirement already satisfied: tqdm in /environment/miniconda3/lib/python3.11/site-packages (4.65.0)\n",
      "Collecting opencv-python\n",
      "  Downloading https://pypi.tuna.tsinghua.edu.cn/packages/2c/8b/90eb44a40476fa0e71e05a0283947cfd74a5d36121a11d926ad6f3193cc4/opencv_python-4.11.0.86-cp37-abi3-manylinux_2_17_x86_64.manylinux2014_x86_64.whl (63.0 MB)\n",
      "\u001b[2K     \u001b[90m━━━━━━━━━━━━━━━━━━━━━━━━━━━━━━━━━━━━━━━━\u001b[0m \u001b[32m63.0/63.0 MB\u001b[0m \u001b[31m37.4 MB/s\u001b[0m eta \u001b[36m0:00:00\u001b[0m00:01\u001b[0m00:01\u001b[0m\n",
      "\u001b[?25hRequirement already satisfied: python-dateutil>=2.8.2 in /environment/miniconda3/lib/python3.11/site-packages (from pandas) (2.9.0.post0)\n",
      "Requirement already satisfied: pytz>=2020.1 in /environment/miniconda3/lib/python3.11/site-packages (from pandas) (2024.1)\n",
      "Requirement already satisfied: tzdata>=2022.7 in /environment/miniconda3/lib/python3.11/site-packages (from pandas) (2024.1)\n",
      "Requirement already satisfied: contourpy>=1.0.1 in /environment/miniconda3/lib/python3.11/site-packages (from matplotlib) (1.2.1)\n",
      "Requirement already satisfied: cycler>=0.10 in /environment/miniconda3/lib/python3.11/site-packages (from matplotlib) (0.12.1)\n",
      "Requirement already satisfied: fonttools>=4.22.0 in /environment/miniconda3/lib/python3.11/site-packages (from matplotlib) (4.53.0)\n",
      "Requirement already satisfied: kiwisolver>=1.3.1 in /environment/miniconda3/lib/python3.11/site-packages (from matplotlib) (1.4.5)\n",
      "Requirement already satisfied: packaging>=20.0 in /environment/miniconda3/lib/python3.11/site-packages (from matplotlib) (23.2)\n",
      "Requirement already satisfied: pillow>=8 in /environment/miniconda3/lib/python3.11/site-packages (from matplotlib) (10.3.0)\n",
      "Requirement already satisfied: pyparsing>=2.3.1 in /environment/miniconda3/lib/python3.11/site-packages (from matplotlib) (3.1.2)\n",
      "Requirement already satisfied: charset-normalizer<4,>=2 in /environment/miniconda3/lib/python3.11/site-packages (from requests) (2.0.4)\n",
      "Requirement already satisfied: idna<4,>=2.5 in /environment/miniconda3/lib/python3.11/site-packages (from requests) (3.4)\n",
      "Requirement already satisfied: urllib3<3,>=1.21.1 in /environment/miniconda3/lib/python3.11/site-packages (from requests) (2.1.0)\n",
      "Requirement already satisfied: certifi>=2017.4.17 in /environment/miniconda3/lib/python3.11/site-packages (from requests) (2024.2.2)\n",
      "Requirement already satisfied: six>=1.5 in /environment/miniconda3/lib/python3.11/site-packages (from python-dateutil>=2.8.2->pandas) (1.16.0)\n",
      "Installing collected packages: opencv-python\n",
      "Successfully installed opencv-python-4.11.0.86\n"
     ]
    }
   ],
   "source": [
    "!pip install numpy pandas matplotlib requests tqdm opencv-python"
   ]
  },
  {
   "cell_type": "code",
   "execution_count": 2,
   "id": "15a8411e-84e4-46ee-93d4-46664d0e7c21",
   "metadata": {},
   "outputs": [
    {
     "name": "stdout",
     "output_type": "stream",
     "text": [
      "Looking in indexes: https://pypi.tuna.tsinghua.edu.cn/simple\n",
      "Collecting grad-cam\n",
      "  Downloading https://pypi.tuna.tsinghua.edu.cn/packages/68/43/77c719e638d018f5502c398af163521974fbb36ae9b557121cee0f15af3a/grad-cam-1.5.4.tar.gz (7.8 MB)\n",
      "\u001b[2K     \u001b[90m━━━━━━━━━━━━━━━━━━━━━━━━━━━━━━━━━━━━━━━━\u001b[0m \u001b[32m7.8/7.8 MB\u001b[0m \u001b[31m65.0 MB/s\u001b[0m eta \u001b[36m0:00:00\u001b[0m:00:01\u001b[0m0:01\u001b[0mm\n",
      "\u001b[?25h  Installing build dependencies ... \u001b[?25ldone\n",
      "\u001b[?25h  Getting requirements to build wheel ... \u001b[?25ldone\n",
      "\u001b[?25h  Preparing metadata (pyproject.toml) ... \u001b[?25ldone\n",
      "\u001b[?25hCollecting torchcam\n",
      "  Downloading https://pypi.tuna.tsinghua.edu.cn/packages/9a/35/4709f53016e22be6843022991feaf73bab2f41ea96800a4f9a830af6011d/torchcam-0.4.0-py3-none-any.whl (46 kB)\n",
      "\u001b[2K     \u001b[90m━━━━━━━━━━━━━━━━━━━━━━━━━━━━━━━━━━━━━━━━\u001b[0m \u001b[32m46.0/46.0 kB\u001b[0m \u001b[31m38.0 MB/s\u001b[0m eta \u001b[36m0:00:00\u001b[0m\n",
      "\u001b[?25hRequirement already satisfied: numpy in /environment/miniconda3/lib/python3.11/site-packages (from grad-cam) (1.26.4)\n",
      "Requirement already satisfied: Pillow in /environment/miniconda3/lib/python3.11/site-packages (from grad-cam) (10.3.0)\n",
      "Requirement already satisfied: torch>=1.7.1 in /environment/miniconda3/lib/python3.11/site-packages (from grad-cam) (2.2.2)\n",
      "Requirement already satisfied: torchvision>=0.8.2 in /environment/miniconda3/lib/python3.11/site-packages (from grad-cam) (0.17.2)\n",
      "Collecting ttach (from grad-cam)\n",
      "  Downloading https://pypi.tuna.tsinghua.edu.cn/packages/8d/a3/ee48a184a185c1897c582c72240c2c8a0d0aeb5f8051a71d4e4cd930c52d/ttach-0.0.3-py3-none-any.whl (9.8 kB)\n",
      "Requirement already satisfied: tqdm in /environment/miniconda3/lib/python3.11/site-packages (from grad-cam) (4.65.0)\n",
      "Requirement already satisfied: opencv-python in /environment/miniconda3/lib/python3.11/site-packages (from grad-cam) (4.11.0.86)\n",
      "Requirement already satisfied: matplotlib in /environment/miniconda3/lib/python3.11/site-packages (from grad-cam) (3.9.0)\n",
      "Collecting scikit-learn (from grad-cam)\n",
      "  Downloading https://pypi.tuna.tsinghua.edu.cn/packages/a8/f3/62fc9a5a659bb58a03cdd7e258956a5824bdc9b4bb3c5d932f55880be569/scikit_learn-1.6.1-cp311-cp311-manylinux_2_17_x86_64.manylinux2014_x86_64.whl (13.5 MB)\n",
      "\u001b[2K     \u001b[90m━━━━━━━━━━━━━━━━━━━━━━━━━━━━━━━━━━━━━━━━\u001b[0m \u001b[32m13.5/13.5 MB\u001b[0m \u001b[31m84.9 MB/s\u001b[0m eta \u001b[36m0:00:00\u001b[0m00:01\u001b[0m00:01\u001b[0m\n",
      "\u001b[?25hRequirement already satisfied: contourpy>=1.0.1 in /environment/miniconda3/lib/python3.11/site-packages (from matplotlib->grad-cam) (1.2.1)\n",
      "Requirement already satisfied: cycler>=0.10 in /environment/miniconda3/lib/python3.11/site-packages (from matplotlib->grad-cam) (0.12.1)\n",
      "Requirement already satisfied: fonttools>=4.22.0 in /environment/miniconda3/lib/python3.11/site-packages (from matplotlib->grad-cam) (4.53.0)\n",
      "Requirement already satisfied: kiwisolver>=1.3.1 in /environment/miniconda3/lib/python3.11/site-packages (from matplotlib->grad-cam) (1.4.5)\n",
      "Requirement already satisfied: packaging>=20.0 in /environment/miniconda3/lib/python3.11/site-packages (from matplotlib->grad-cam) (23.2)\n",
      "Requirement already satisfied: pyparsing>=2.3.1 in /environment/miniconda3/lib/python3.11/site-packages (from matplotlib->grad-cam) (3.1.2)\n",
      "Requirement already satisfied: python-dateutil>=2.7 in /environment/miniconda3/lib/python3.11/site-packages (from matplotlib->grad-cam) (2.9.0.post0)\n",
      "Requirement already satisfied: filelock in /environment/miniconda3/lib/python3.11/site-packages (from torch>=1.7.1->grad-cam) (3.13.4)\n",
      "Requirement already satisfied: typing-extensions>=4.8.0 in /environment/miniconda3/lib/python3.11/site-packages (from torch>=1.7.1->grad-cam) (4.11.0)\n",
      "Requirement already satisfied: sympy in /environment/miniconda3/lib/python3.11/site-packages (from torch>=1.7.1->grad-cam) (1.12)\n",
      "Requirement already satisfied: networkx in /environment/miniconda3/lib/python3.11/site-packages (from torch>=1.7.1->grad-cam) (3.3)\n",
      "Requirement already satisfied: jinja2 in /environment/miniconda3/lib/python3.11/site-packages (from torch>=1.7.1->grad-cam) (3.1.3)\n",
      "Requirement already satisfied: fsspec in /environment/miniconda3/lib/python3.11/site-packages (from torch>=1.7.1->grad-cam) (2024.3.1)\n",
      "Requirement already satisfied: nvidia-cuda-nvrtc-cu12==12.1.105 in /environment/miniconda3/lib/python3.11/site-packages (from torch>=1.7.1->grad-cam) (12.1.105)\n",
      "Requirement already satisfied: nvidia-cuda-runtime-cu12==12.1.105 in /environment/miniconda3/lib/python3.11/site-packages (from torch>=1.7.1->grad-cam) (12.1.105)\n",
      "Requirement already satisfied: nvidia-cuda-cupti-cu12==12.1.105 in /environment/miniconda3/lib/python3.11/site-packages (from torch>=1.7.1->grad-cam) (12.1.105)\n",
      "Requirement already satisfied: nvidia-cudnn-cu12==8.9.2.26 in /environment/miniconda3/lib/python3.11/site-packages (from torch>=1.7.1->grad-cam) (8.9.2.26)\n",
      "Requirement already satisfied: nvidia-cublas-cu12==12.1.3.1 in /environment/miniconda3/lib/python3.11/site-packages (from torch>=1.7.1->grad-cam) (12.1.3.1)\n",
      "Requirement already satisfied: nvidia-cufft-cu12==11.0.2.54 in /environment/miniconda3/lib/python3.11/site-packages (from torch>=1.7.1->grad-cam) (11.0.2.54)\n",
      "Requirement already satisfied: nvidia-curand-cu12==10.3.2.106 in /environment/miniconda3/lib/python3.11/site-packages (from torch>=1.7.1->grad-cam) (10.3.2.106)\n",
      "Requirement already satisfied: nvidia-cusolver-cu12==11.4.5.107 in /environment/miniconda3/lib/python3.11/site-packages (from torch>=1.7.1->grad-cam) (11.4.5.107)\n",
      "Requirement already satisfied: nvidia-cusparse-cu12==12.1.0.106 in /environment/miniconda3/lib/python3.11/site-packages (from torch>=1.7.1->grad-cam) (12.1.0.106)\n",
      "Requirement already satisfied: nvidia-nccl-cu12==2.19.3 in /environment/miniconda3/lib/python3.11/site-packages (from torch>=1.7.1->grad-cam) (2.19.3)\n",
      "Requirement already satisfied: nvidia-nvtx-cu12==12.1.105 in /environment/miniconda3/lib/python3.11/site-packages (from torch>=1.7.1->grad-cam) (12.1.105)\n",
      "Requirement already satisfied: triton==2.2.0 in /environment/miniconda3/lib/python3.11/site-packages (from torch>=1.7.1->grad-cam) (2.2.0)\n",
      "Requirement already satisfied: nvidia-nvjitlink-cu12 in /environment/miniconda3/lib/python3.11/site-packages (from nvidia-cusolver-cu12==11.4.5.107->torch>=1.7.1->grad-cam) (12.4.127)\n",
      "Collecting scipy>=1.6.0 (from scikit-learn->grad-cam)\n",
      "  Downloading https://pypi.tuna.tsinghua.edu.cn/packages/32/ea/564bacc26b676c06a00266a3f25fdfe91a9d9a2532ccea7ce6dd394541bc/scipy-1.15.2-cp311-cp311-manylinux_2_17_x86_64.manylinux2014_x86_64.whl (37.6 MB)\n",
      "\u001b[2K     \u001b[90m━━━━━━━━━━━━━━━━━━━━━━━━━━━━━━━━━━━━━━━━\u001b[0m \u001b[32m37.6/37.6 MB\u001b[0m \u001b[31m51.3 MB/s\u001b[0m eta \u001b[36m0:00:00\u001b[0m00:01\u001b[0m00:01\u001b[0m\n",
      "\u001b[?25hCollecting joblib>=1.2.0 (from scikit-learn->grad-cam)\n",
      "  Downloading https://pypi.tuna.tsinghua.edu.cn/packages/91/29/df4b9b42f2be0b623cbd5e2140cafcaa2bef0759a00b7b70104dcfe2fb51/joblib-1.4.2-py3-none-any.whl (301 kB)\n",
      "\u001b[2K     \u001b[90m━━━━━━━━━━━━━━━━━━━━━━━━━━━━━━━━━━━━━━\u001b[0m \u001b[32m301.8/301.8 kB\u001b[0m \u001b[31m21.2 MB/s\u001b[0m eta \u001b[36m0:00:00\u001b[0m\n",
      "\u001b[?25hCollecting threadpoolctl>=3.1.0 (from scikit-learn->grad-cam)\n",
      "  Downloading https://pypi.tuna.tsinghua.edu.cn/packages/4b/2c/ffbf7a134b9ab11a67b0cf0726453cedd9c5043a4fe7a35d1cefa9a1bcfb/threadpoolctl-3.5.0-py3-none-any.whl (18 kB)\n",
      "Requirement already satisfied: six>=1.5 in /environment/miniconda3/lib/python3.11/site-packages (from python-dateutil>=2.7->matplotlib->grad-cam) (1.16.0)\n",
      "Requirement already satisfied: MarkupSafe>=2.0 in /environment/miniconda3/lib/python3.11/site-packages (from jinja2->torch>=1.7.1->grad-cam) (2.1.5)\n",
      "Requirement already satisfied: mpmath>=0.19 in /environment/miniconda3/lib/python3.11/site-packages (from sympy->torch>=1.7.1->grad-cam) (1.3.0)\n",
      "Building wheels for collected packages: grad-cam\n",
      "  Building wheel for grad-cam (pyproject.toml) ... \u001b[?25ldone\n",
      "\u001b[?25h  Created wheel for grad-cam: filename=grad_cam-1.5.4-py3-none-any.whl size=39647 sha256=cf9d3779f371f72a8595b79b613dc6d2af0fe024cff05d2043c9bb0e8d41e49d\n",
      "  Stored in directory: /home/featurize/.cache/pip/wheels/ef/e1/4a/36909c128377237f002f8d6f6224c293ec0bf2e48301a8996a\n",
      "Successfully built grad-cam\n",
      "Installing collected packages: ttach, threadpoolctl, scipy, joblib, scikit-learn, torchcam, grad-cam\n",
      "Successfully installed grad-cam-1.5.4 joblib-1.4.2 scikit-learn-1.6.1 scipy-1.15.2 threadpoolctl-3.5.0 torchcam-0.4.0 ttach-0.0.3\n"
     ]
    }
   ],
   "source": [
    "!pip install grad-cam torchcam"
   ]
  },
  {
   "cell_type": "code",
   "execution_count": 3,
   "id": "b7aff0d9-1311-44f3-922f-60b33e738a04",
   "metadata": {},
   "outputs": [],
   "source": [
    "import pytorch_grad_cam"
   ]
  },
  {
   "cell_type": "code",
   "execution_count": null,
   "id": "33ecf9a4-0348-43d2-a4dc-f9b5c3d6dccf",
   "metadata": {},
   "outputs": [],
   "source": []
  }
 ],
 "metadata": {
  "kernelspec": {
   "display_name": "Python 3 (ipykernel)",
   "language": "python",
   "name": "python3"
  },
  "language_info": {
   "codemirror_mode": {
    "name": "ipython",
    "version": 3
   },
   "file_extension": ".py",
   "mimetype": "text/x-python",
   "name": "python",
   "nbconvert_exporter": "python",
   "pygments_lexer": "ipython3",
   "version": "3.11.8"
  }
 },
 "nbformat": 4,
 "nbformat_minor": 5
}
