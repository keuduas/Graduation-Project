{
 "cells": [
  {
   "cell_type": "code",
   "execution_count": 1,
   "id": "60fd61a6-da35-4936-83a1-c88bbc4b0190",
   "metadata": {},
   "outputs": [
    {
     "name": "stdout",
     "output_type": "stream",
     "text": [
      "Looking in indexes: https://pypi.tuna.tsinghua.edu.cn/simple\n",
      "Requirement already satisfied: nbconvert in /environment/miniconda3/lib/python3.11/site-packages (7.16.3)\n",
      "Requirement already satisfied: beautifulsoup4 in /environment/miniconda3/lib/python3.11/site-packages (from nbconvert) (4.12.3)\n",
      "Requirement already satisfied: bleach!=5.0.0 in /environment/miniconda3/lib/python3.11/site-packages (from nbconvert) (6.1.0)\n",
      "Requirement already satisfied: defusedxml in /environment/miniconda3/lib/python3.11/site-packages (from nbconvert) (0.7.1)\n",
      "Requirement already satisfied: jinja2>=3.0 in /environment/miniconda3/lib/python3.11/site-packages (from nbconvert) (3.1.3)\n",
      "Requirement already satisfied: jupyter-core>=4.7 in /environment/miniconda3/lib/python3.11/site-packages (from nbconvert) (5.7.2)\n",
      "Requirement already satisfied: jupyterlab-pygments in /environment/miniconda3/lib/python3.11/site-packages (from nbconvert) (0.3.0)\n",
      "Requirement already satisfied: markupsafe>=2.0 in /environment/miniconda3/lib/python3.11/site-packages (from nbconvert) (2.1.5)\n",
      "Requirement already satisfied: mistune<4,>=2.0.3 in /environment/miniconda3/lib/python3.11/site-packages (from nbconvert) (3.0.2)\n",
      "Requirement already satisfied: nbclient>=0.5.0 in /environment/miniconda3/lib/python3.11/site-packages (from nbconvert) (0.10.0)\n",
      "Requirement already satisfied: nbformat>=5.7 in /environment/miniconda3/lib/python3.11/site-packages (from nbconvert) (5.10.4)\n",
      "Requirement already satisfied: packaging in /environment/miniconda3/lib/python3.11/site-packages (from nbconvert) (23.2)\n",
      "Requirement already satisfied: pandocfilters>=1.4.1 in /environment/miniconda3/lib/python3.11/site-packages (from nbconvert) (1.5.1)\n",
      "Requirement already satisfied: pygments>=2.4.1 in /environment/miniconda3/lib/python3.11/site-packages (from nbconvert) (2.17.2)\n",
      "Requirement already satisfied: tinycss2 in /environment/miniconda3/lib/python3.11/site-packages (from nbconvert) (1.3.0)\n",
      "Requirement already satisfied: traitlets>=5.1 in /environment/miniconda3/lib/python3.11/site-packages (from nbconvert) (5.14.3)\n",
      "Requirement already satisfied: six>=1.9.0 in /environment/miniconda3/lib/python3.11/site-packages (from bleach!=5.0.0->nbconvert) (1.16.0)\n",
      "Requirement already satisfied: webencodings in /environment/miniconda3/lib/python3.11/site-packages (from bleach!=5.0.0->nbconvert) (0.5.1)\n",
      "Requirement already satisfied: platformdirs>=2.5 in /environment/miniconda3/lib/python3.11/site-packages (from jupyter-core>=4.7->nbconvert) (3.10.0)\n",
      "Requirement already satisfied: jupyter-client>=6.1.12 in /environment/miniconda3/lib/python3.11/site-packages (from nbclient>=0.5.0->nbconvert) (8.6.1)\n",
      "Requirement already satisfied: fastjsonschema>=2.15 in /environment/miniconda3/lib/python3.11/site-packages (from nbformat>=5.7->nbconvert) (2.19.1)\n",
      "Requirement already satisfied: jsonschema>=2.6 in /environment/miniconda3/lib/python3.11/site-packages (from nbformat>=5.7->nbconvert) (4.21.1)\n",
      "Requirement already satisfied: soupsieve>1.2 in /environment/miniconda3/lib/python3.11/site-packages (from beautifulsoup4->nbconvert) (2.5)\n",
      "Requirement already satisfied: attrs>=22.2.0 in /environment/miniconda3/lib/python3.11/site-packages (from jsonschema>=2.6->nbformat>=5.7->nbconvert) (23.2.0)\n",
      "Requirement already satisfied: jsonschema-specifications>=2023.03.6 in /environment/miniconda3/lib/python3.11/site-packages (from jsonschema>=2.6->nbformat>=5.7->nbconvert) (2023.12.1)\n",
      "Requirement already satisfied: referencing>=0.28.4 in /environment/miniconda3/lib/python3.11/site-packages (from jsonschema>=2.6->nbformat>=5.7->nbconvert) (0.35.0)\n",
      "Requirement already satisfied: rpds-py>=0.7.1 in /environment/miniconda3/lib/python3.11/site-packages (from jsonschema>=2.6->nbformat>=5.7->nbconvert) (0.18.0)\n",
      "Requirement already satisfied: python-dateutil>=2.8.2 in /environment/miniconda3/lib/python3.11/site-packages (from jupyter-client>=6.1.12->nbclient>=0.5.0->nbconvert) (2.9.0.post0)\n",
      "Requirement already satisfied: pyzmq>=23.0 in /environment/miniconda3/lib/python3.11/site-packages (from jupyter-client>=6.1.12->nbclient>=0.5.0->nbconvert) (26.0.2)\n",
      "Requirement already satisfied: tornado>=6.2 in /environment/miniconda3/lib/python3.11/site-packages (from jupyter-client>=6.1.12->nbclient>=0.5.0->nbconvert) (6.4)\n"
     ]
    }
   ],
   "source": [
    "!pip install nbconvert"
   ]
  },
  {
   "cell_type": "code",
   "execution_count": 1,
   "id": "5f604576-cc1f-4428-97a5-d3bc5e43ead4",
   "metadata": {},
   "outputs": [
    {
     "name": "stdout",
     "output_type": "stream",
     "text": [
      "[NbConvertApp] Converting notebook similarity_10%-Copy1.ipynb to html\n",
      "[NbConvertApp] WARNING | Alternative text is missing on 40 image(s).\n",
      "[NbConvertApp] Writing 1596942 bytes to similarity_10%-Copy1.html\n"
     ]
    }
   ],
   "source": [
    "!jupyter nbconvert --to html similarity_10%-Copy1.ipynb "
   ]
  },
  {
   "cell_type": "code",
   "execution_count": null,
   "id": "f59dd223-405d-4f4d-ba2b-12964254ee74",
   "metadata": {},
   "outputs": [],
   "source": []
  }
 ],
 "metadata": {
  "kernelspec": {
   "display_name": "Python 3 (ipykernel)",
   "language": "python",
   "name": "python3"
  },
  "language_info": {
   "codemirror_mode": {
    "name": "ipython",
    "version": 3
   },
   "file_extension": ".py",
   "mimetype": "text/x-python",
   "name": "python",
   "nbconvert_exporter": "python",
   "pygments_lexer": "ipython3",
   "version": "3.11.8"
  }
 },
 "nbformat": 4,
 "nbformat_minor": 5
}
