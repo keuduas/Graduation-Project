{
 "cells": [
  {
   "cell_type": "code",
   "execution_count": 3,
   "id": "5b9dc273-21aa-41f7-9e2b-b7440d3d8320",
   "metadata": {},
   "outputs": [],
   "source": [
    "import os  \n",
    "import shutil  \n",
    "\n",
    "def rename_images(dataset_dir, prefix=\"n01558993\"):  \n",
    "    \"\"\"  \n",
    "    将 dataset_dir 文件夹下所有以 prefix 开头的 jpg 文件重命名为 \"prefix_1.jpg\", \"prefix_2.jpg\", ..., \"prefix_100.jpg\"  \n",
    "    \n",
    "    Args:  \n",
    "        dataset_dir (str): 图片所在的目录路径  \n",
    "        prefix (str): 文件的前缀  \n",
    "    \"\"\"  \n",
    "    # 确保路径存在  \n",
    "    if not os.path.exists(dataset_dir):  \n",
    "        raise FileNotFoundError(f\"路径 {dataset_dir} 不存在\")  \n",
    "    \n",
    "    # 获取所有以 prefix 开头的 jpg 文件  \n",
    "    files = [f for f in os.listdir(dataset_dir) if f.startswith(prefix) and f.endswith('.jpg')]  \n",
    "    \n",
    "    # 确保文件数量在合理范围内  \n",
    "    num_files = len(files)  \n",
    "    if num_files > 100:  \n",
    "        raise ValueError(f\"文件数量超过 100 张\")  \n",
    "    \n",
    "    # 重新排序并重命名  \n",
    "    for index in range(1, num_files + 1):  \n",
    "        old_filename = f\"{prefix}_*\"  \n",
    "        new_filename = f\"{prefix}_{index}.jpg\"  \n",
    "        # 查找旧文件（确保正确匹配）  \n",
    "        for f in files:  \n",
    "            if f.startswith(prefix) and f.endswith('.jpg'):  \n",
    "                old_path = os.path.join(dataset_dir, f)  \n",
    "                new_path = os.path.join(dataset_dir, new_filename)  \n",
    "                os.rename(old_path, new_path)  \n",
    "                files.remove(f)  # 移除已经重命名的文件  \n",
    "                break  \n",
    "    \n",
    "    return [f\"{prefix}_{i}.jpg\" for i in range(1, num_files + 1)]  \n",
    "\n"
   ]
  },
  {
   "cell_type": "code",
   "execution_count": 4,
   "id": "f5653782-41d0-47e2-8f98-acc46ae9528a",
   "metadata": {},
   "outputs": [
    {
     "name": "stdout",
     "output_type": "stream",
     "text": [
      "重命名后的文件列表: ['n01532829_1.jpg', 'n01532829_2.jpg', 'n01532829_3.jpg', 'n01532829_4.jpg', 'n01532829_5.jpg', 'n01532829_6.jpg', 'n01532829_7.jpg', 'n01532829_8.jpg', 'n01532829_9.jpg', 'n01532829_10.jpg', 'n01532829_11.jpg', 'n01532829_12.jpg', 'n01532829_13.jpg', 'n01532829_14.jpg', 'n01532829_15.jpg', 'n01532829_16.jpg', 'n01532829_17.jpg', 'n01532829_18.jpg', 'n01532829_19.jpg', 'n01532829_20.jpg', 'n01532829_21.jpg', 'n01532829_22.jpg', 'n01532829_23.jpg', 'n01532829_24.jpg', 'n01532829_25.jpg', 'n01532829_26.jpg', 'n01532829_27.jpg', 'n01532829_28.jpg', 'n01532829_29.jpg', 'n01532829_30.jpg', 'n01532829_31.jpg', 'n01532829_32.jpg', 'n01532829_33.jpg', 'n01532829_34.jpg', 'n01532829_35.jpg', 'n01532829_36.jpg', 'n01532829_37.jpg', 'n01532829_38.jpg', 'n01532829_39.jpg', 'n01532829_40.jpg', 'n01532829_41.jpg', 'n01532829_42.jpg', 'n01532829_43.jpg', 'n01532829_44.jpg', 'n01532829_45.jpg', 'n01532829_46.jpg', 'n01532829_47.jpg', 'n01532829_48.jpg', 'n01532829_49.jpg', 'n01532829_50.jpg', 'n01532829_51.jpg', 'n01532829_52.jpg', 'n01532829_53.jpg', 'n01532829_54.jpg', 'n01532829_55.jpg', 'n01532829_56.jpg', 'n01532829_57.jpg', 'n01532829_58.jpg', 'n01532829_59.jpg', 'n01532829_60.jpg', 'n01532829_61.jpg', 'n01532829_62.jpg', 'n01532829_63.jpg', 'n01532829_64.jpg', 'n01532829_65.jpg', 'n01532829_66.jpg', 'n01532829_67.jpg', 'n01532829_68.jpg', 'n01532829_69.jpg', 'n01532829_70.jpg', 'n01532829_71.jpg', 'n01532829_72.jpg', 'n01532829_73.jpg', 'n01532829_74.jpg', 'n01532829_75.jpg', 'n01532829_76.jpg', 'n01532829_77.jpg', 'n01532829_78.jpg', 'n01532829_79.jpg', 'n01532829_80.jpg', 'n01532829_81.jpg', 'n01532829_82.jpg', 'n01532829_83.jpg', 'n01532829_84.jpg', 'n01532829_85.jpg', 'n01532829_86.jpg', 'n01532829_87.jpg', 'n01532829_88.jpg', 'n01532829_89.jpg', 'n01532829_90.jpg', 'n01532829_91.jpg', 'n01532829_92.jpg', 'n01532829_93.jpg', 'n01532829_94.jpg', 'n01532829_95.jpg', 'n01532829_96.jpg', 'n01532829_97.jpg', 'n01532829_98.jpg', 'n01532829_99.jpg', 'n01532829_100.jpg']\n"
     ]
    }
   ],
   "source": [
    "# 使用示例  \n",
    "dataset_dir = \"dataset/n01532829\"  \n",
    "renamed_files = rename_images(dataset_dir,prefix=\"n01532829\")  \n",
    "print(\"重命名后的文件列表:\", renamed_files) "
   ]
  },
  {
   "cell_type": "code",
   "execution_count": 4,
   "id": "632eefda-af68-4e6b-88e8-c0bf295c496b",
   "metadata": {},
   "outputs": [],
   "source": [
    "def batch_rename_images(prefix_list):  \n",
    "    \"\"\"  \n",
    "    批量处理多个文件夹的图片重命名。  \n",
    "    \n",
    "    Args:  \n",
    "        prefix_list (list): 包含多个前缀的列表，每个前缀对应一个文件夹。  \n",
    "        \n",
    "    Returns:  \n",
    "        dict: 返回一个字典，包含每个前缀的处理结果。  \n",
    "    \"\"\"  \n",
    "    results = {}  \n",
    "    for prefix in prefix_list:  \n",
    "        dataset_dir = os.path.join(\"dataset\", prefix)  \n",
    "        try:  \n",
    "            renamed_files = rename_images(dataset_dir, prefix)  \n",
    "            results[prefix] = {  \n",
    "                \"status\": \"success\",  \n",
    "                \"message\": f\"成功重命名了 {len(renamed_files)} 张图片。\",  \n",
    "                \"files\": renamed_files  \n",
    "            }  \n",
    "        except FileNotFoundError as e:  \n",
    "            results[prefix] = {  \n",
    "                \"status\": \"error\",  \n",
    "                \"message\": str(e)  \n",
    "            }  \n",
    "        except ValueError as e:  \n",
    "            results[prefix] = {  \n",
    "                \"status\": \"error\",  \n",
    "                \"message\": str(e)  \n",
    "            }  \n",
    "        except Exception as e:  \n",
    "            results[prefix] = {  \n",
    "                \"status\": \"error\",  \n",
    "                \"message\": f\"未知错误：{str(e)}\"  \n",
    "            }  \n",
    "    \n",
    "    return results  \n",
    "\n"
   ]
  },
  {
   "cell_type": "code",
   "execution_count": 5,
   "id": "ab661960-6cf4-4239-ad3a-afc75d92c44f",
   "metadata": {},
   "outputs": [
    {
     "name": "stdout",
     "output_type": "stream",
     "text": [
      "Prefix: n02105505\n",
      "Status: success\n",
      "Message: 成功重命名了 100 张图片。\n",
      "Renamed Files: 100 张\n",
      "--------------------------------------------------\n",
      "Prefix: n02101006\n",
      "Status: success\n",
      "Message: 成功重命名了 100 张图片。\n",
      "Renamed Files: 100 张\n",
      "--------------------------------------------------\n"
     ]
    }
   ],
   "source": [
    "# 使用示例  \n",
    "prefix_list = [\"n02105505\", \"n02101006\"]  # 将列表替换为你的前缀列表  \n",
    "results = batch_rename_images(prefix_list)  \n",
    "\n",
    "# 打印处理结果  \n",
    "for prefix, result in results.items():  \n",
    "    print(f\"Prefix: {prefix}\")  \n",
    "    print(f\"Status: {result['status']}\")  \n",
    "    print(f\"Message: {result['message']}\")  \n",
    "    if result[\"status\"] == \"success\":  \n",
    "        print(f\"Renamed Files: {len(result['files'])} 张\")  \n",
    "    print(\"-\" * 50) "
   ]
  },
  {
   "cell_type": "code",
   "execution_count": null,
   "id": "a91d7942-1f21-49c7-8286-11bb1aff5d3d",
   "metadata": {},
   "outputs": [],
   "source": []
  }
 ],
 "metadata": {
  "kernelspec": {
   "display_name": "Python 3 (ipykernel)",
   "language": "python",
   "name": "python3"
  },
  "language_info": {
   "codemirror_mode": {
    "name": "ipython",
    "version": 3
   },
   "file_extension": ".py",
   "mimetype": "text/x-python",
   "name": "python",
   "nbconvert_exporter": "python",
   "pygments_lexer": "ipython3",
   "version": "3.11.8"
  }
 },
 "nbformat": 4,
 "nbformat_minor": 5
}
