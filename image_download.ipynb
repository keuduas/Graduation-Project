{
 "cells": [
  {
   "cell_type": "code",
   "execution_count": 2,
   "id": "c49389a9-7b15-44b3-8054-29bf09c22264",
   "metadata": {},
   "outputs": [
    {
     "name": "stdout",
     "output_type": "stream",
     "text": [
      "  🚀 \u001b[32m\u001b[1m开始下载数据集\u001b[0m \u001b[33mMiniImageNet\u001b[0m 至 \u001b[33m./\u001b[0m\n",
      "\u001b[2K  ✅ \u001b[32m\u001b[1m下载完成\u001b[0m [\u001b[36m#######################################>\u001b[34m\u001b[0m\u001b[0m] 2.88 GiB/2.89 GiB (0.0s)\n"
     ]
    }
   ],
   "source": [
    "!featurize dataset download 95bda819-7a90-4f5a-973b-414c5bbf0fb3"
   ]
  },
  {
   "cell_type": "code",
   "execution_count": 7,
   "id": "ec889b3b-5670-42f6-ad74-44b511772e23",
   "metadata": {},
   "outputs": [
    {
     "name": "stdout",
     "output_type": "stream",
     "text": [
      "已复制文件：n0210100600000642.jpg\n",
      "已复制文件：n0210100600000134.jpg\n",
      "已复制文件：n0210100600000693.jpg\n",
      "已复制文件：n0210100600000927.jpg\n",
      "已复制文件：n0210100600000529.jpg\n",
      "已复制文件：n0210100600000010.jpg\n",
      "已复制文件：n0210100600000803.jpg\n",
      "已复制文件：n0210100600001231.jpg\n",
      "已复制文件：n0210100600001126.jpg\n",
      "已复制文件：n0210100600000639.jpg\n",
      "已复制文件：n0210100600000017.jpg\n",
      "已复制文件：n0210100600000300.jpg\n",
      "已复制文件：n0210100600001121.jpg\n",
      "已复制文件：n0210100600000761.jpg\n",
      "已复制文件：n0210100600001005.jpg\n",
      "已复制文件：n0210100600000920.jpg\n",
      "已复制文件：n0210100600000983.jpg\n",
      "已复制文件：n0210100600000190.jpg\n",
      "已复制文件：n0210100600000141.jpg\n",
      "已复制文件：n0210100600000520.jpg\n",
      "已复制文件：n0210100600001238.jpg\n",
      "已复制文件：n0210100600001182.jpg\n",
      "已复制文件：n0210100600000065.jpg\n",
      "已复制文件：n0210100600000876.jpg\n",
      "已复制文件：n0210100600000404.jpg\n",
      "已复制文件：n0210100600001295.jpg\n",
      "已复制文件：n0210100600000372.jpg\n",
      "已复制文件：n0210100600001153.jpg\n",
      "已复制文件：n0210100600000062.jpg\n",
      "已复制文件：n0210100600001243.jpg\n"
     ]
    }
   ],
   "source": [
    "import os  \n",
    "import shutil  \n",
    "\n",
    "# 定义源文件和目标文件路径  \n",
    "src_root = \"miniimagenet/images\"  \n",
    "dst_dir = \"dataset/n02101006\"  \n",
    "\n",
    "# 创建目标文件夹（如果不存在的话）  \n",
    "os.makedirs(dst_dir, exist_ok=True)  \n",
    "\n",
    "# 初始化计数器  \n",
    "count = 0  \n",
    "\n",
    "# 遍历源文件夹及其子文件夹  \n",
    "for root, dirs, files in os.walk(src_root):  \n",
    "    for file in files:  \n",
    "        if file.lower().endswith(\".jpg\"):  \n",
    "            # 判断文件名是否以指定前缀开头  \n",
    "            if file.startswith(\"n02101006\"):  \n",
    "                src_file = os.path.join(root, file)  \n",
    "                dst_file = os.path.join(dst_dir, file)  \n",
    "                try:  \n",
    "                    # 复制文件  \n",
    "                    shutil.copy2(src_file, dst_file)  \n",
    "                    print(f\"已复制文件：{file}\")  \n",
    "                    count += 1  \n",
    "                    # 当复制到30张时停止  \n",
    "                    if count >= 100:  \n",
    "                        print(f\"已复制30张图片，任务完成！\")  \n",
    "                        # 需要break两次循环：先break内层循环，然后break外层循环  \n",
    "                        break  \n",
    "                except Exception as e:  \n",
    "                    print(f\"复制文件 {file} 时出现错误：{str(e)}\")  \n",
    "            if count >= 30:  \n",
    "                break  \n",
    "    if count >= 30:  \n",
    "        break  "
   ]
  },
  {
   "cell_type": "code",
   "execution_count": 1,
   "id": "5954dbf8-cd4c-41eb-82f8-fa0cfcc09517",
   "metadata": {},
   "outputs": [],
   "source": [
    "import pandas as pd  \n",
    "\n",
    "def select_files():  \n",
    "    try:  \n",
    "        # 读取train.csv文件  \n",
    "        train_df = pd.read_csv('miniimagenet/train.csv')  \n",
    "        \n",
    "        # 确保'filename'列存在  \n",
    "        if 'filename' not in train_df.columns:  \n",
    "            print(\"错误：train.csv文件中没有'filename'列。\")  \n",
    "            return  \n",
    "        \n",
    "        # 定义要筛选的前缀列表  \n",
    "        prefixes = ['n02105505','n02101006']  \n",
    "         \n",
    "        \n",
    "        # 初始化结果字典，用于存储每个前缀对应的文件名列表  \n",
    "        selected_files = {f'files_startswith_{prefix}': [] for prefix in prefixes}  \n",
    "        \n",
    "        # 遍历每一行，检查filename是否以指定的前缀开头且以.jpg结尾  \n",
    "        for index, row in train_df.iterrows():  \n",
    "            filename = row['filename']  \n",
    "            if isinstance(filename, str):  # 确保filename是字符串  \n",
    "                if filename.lower().endswith('.jpg'):  \n",
    "                    for prefix in prefixes:  \n",
    "                        if filename.startswith(prefix):  \n",
    "                            selected_files[f'files_startswith_{prefix}'].append(filename)  \n",
    "        \n",
    "        # 创建结果DataFrame  \n",
    "        # 需要确保每列的长度一致，这里假设每列至少有一个文件名  \n",
    "        # 如果某列没有文件名，则会显示为空  \n",
    "        data = selected_files  \n",
    "        \n",
    "        # 创建DataFrame时，每列为一个列表，确保每列长度相同  \n",
    "        max_length = max(len(v) for v in data.values())  \n",
    "        dataframe_rows = []  \n",
    "        for i in range(max_length):  \n",
    "            row = {}  \n",
    "            for key in data:  \n",
    "                if i < len(data[key]):  \n",
    "                    row[key] = data[key][i]  \n",
    "                else:  \n",
    "                    row[key] = ''  # 如果某列没有对应的行，设置为空字符串  \n",
    "            dataframe_rows.append(row)  \n",
    "        \n",
    "        result_df = pd.DataFrame(dataframe_rows)  \n",
    "        \n",
    "        # 保存到CSV文件，不写入索引  \n",
    "        result_df.to_csv('selected_files.csv', index=False)  \n",
    "        print(\"已将符合条件的文件保存到selected_files.csv文件中。\")  \n",
    "    \n",
    "    except FileNotFoundError:  \n",
    "        print(\"错误：train.csv文件未找到。请确保文件位于当前工作目录中。\")  \n",
    "    except pd.errors.EmptyDataError:  \n",
    "        print(\"错误：train.csv文件为空。\")  \n",
    "    except pd.errors.ParserError:  \n",
    "        print(\"错误：读取train.csv文件时发生错误。请检查文件格式是否正确。\")  \n",
    "    except Exception as e:  \n",
    "        print(f\"未知错误：{str(e)}\")  \n",
    "\n"
   ]
  },
  {
   "cell_type": "code",
   "execution_count": 2,
   "id": "cb256ce3-03d9-4309-bcbe-acece7a86fa9",
   "metadata": {},
   "outputs": [
    {
     "name": "stdout",
     "output_type": "stream",
     "text": [
      "已将符合条件的文件保存到selected_files.csv文件中。\n"
     ]
    }
   ],
   "source": [
    "select_files()"
   ]
  },
  {
   "cell_type": "code",
   "execution_count": 7,
   "id": "b1817cf1-716d-42a6-ac9b-d6302ebcf737",
   "metadata": {},
   "outputs": [],
   "source": [
    "import pandas as pd  \n",
    "import os  \n",
    "import shutil  \n",
    "\n",
    "def copy_images_to_dataset(target_prefix = 'n02105505'):  \n",
    "    try:  \n",
    "        # 读取selected_files.csv文件  \n",
    "        selected_df = pd.read_csv('selected_files.csv')  \n",
    "        \n",
    "        # 定义需要处理的前缀，这里以“n02105505”为例  \n",
    "        target_folder = f'dataset/{target_prefix}'  \n",
    "        \n",
    "        # 确保目标文件夹存在，若不存在则创建  \n",
    "        os.makedirs(target_folder, exist_ok=True)  \n",
    "        \n",
    "        # 获取当前列名中包含目标前缀的列  \n",
    "        target_column = f'files_startswith_{target_prefix}'  \n",
    "        \n",
    "        # 检查目标列是否存在  \n",
    "        if target_column not in selected_df.columns:  \n",
    "            print(f\"错误：selected_files.csv文件中没有'{target_column}'列。\")  \n",
    "            return  \n",
    "        \n",
    "        # 获取所有的filename，排除空值  \n",
    "        filenames = selected_df[target_column].dropna()  \n",
    "        \n",
    "        # 定义图片所在的源文件夹  \n",
    "        source_folder = 'miniimagenet/images'  \n",
    "        \n",
    "        # 遍历每一个filename，并复制到目标文件夹  \n",
    "        for filename in filenames:  \n",
    "            if pd.isna(filename):  \n",
    "                continue  # 跳过空值  \n",
    "                \n",
    "            # 构建完整的源文件路径  \n",
    "            src_file_path = os.path.join(source_folder, filename)  \n",
    "            \n",
    "            # 检查文件是否存在  \n",
    "            if os.path.isfile(src_file_path):  \n",
    "                # 构建目标文件路径  \n",
    "                dst_file_path = os.path.join(target_folder, filename)  \n",
    "                # 复制文件  \n",
    "                shutil.copy2(src_file_path, dst_file_path)  \n",
    "                # print(f\"已成功复制文件：{filename}\")  \n",
    "            else:  \n",
    "                print(f\"警告：文件 {filename} 不存在。\")  \n",
    "        \n",
    "        print(f\"所有以 '{target_prefix}' 开头的图片已复制到 '{target_folder}' 文件夹中。\")  \n",
    "    \n",
    "    except FileNotFoundError:  \n",
    "        print(\"错误：selected_files.csv 文件未找到。\")  \n",
    "    except Exception as e:  \n",
    "        print(f\"未知错误：{str(e)}\")  \n"
   ]
  },
  {
   "cell_type": "code",
   "execution_count": 8,
   "id": "a920550d-b026-486a-99c2-0fa381ab2d78",
   "metadata": {},
   "outputs": [
    {
     "name": "stdout",
     "output_type": "stream",
     "text": [
      "所有以 'n02105505' 开头的图片已复制到 'dataset/n02105505' 文件夹中。\n"
     ]
    }
   ],
   "source": [
    " copy_images_to_dataset(target_prefix = 'n02105505') "
   ]
  },
  {
   "cell_type": "code",
   "execution_count": 9,
   "id": "6f76fa86-6121-41f8-8f68-53f56350805e",
   "metadata": {},
   "outputs": [
    {
     "name": "stdout",
     "output_type": "stream",
     "text": [
      "所有以 'n02101006' 开头的图片已复制到 'dataset/n02101006' 文件夹中。\n"
     ]
    }
   ],
   "source": [
    " copy_images_to_dataset(target_prefix = 'n02101006') "
   ]
  },
  {
   "cell_type": "code",
   "execution_count": 6,
   "id": "38fda4c3-ad8d-4c27-b032-b691a0bb74fb",
   "metadata": {},
   "outputs": [
    {
     "name": "stdout",
     "output_type": "stream",
     "text": [
      "已清空目录：dataset/n02101006\n"
     ]
    }
   ],
   "source": [
    "import os  \n",
    "import shutil  \n",
    "\n",
    "def delete_all_in_dir(directory_path):  \n",
    "    \"\"\"  \n",
    "    删除指定目录下的所有文件和子目录。  \n",
    "    \"\"\"  \n",
    "    # 检查路径是否存在  \n",
    "    if not os.path.exists(directory_path):  \n",
    "        print(f\"路径 {directory_path} 不存在。\")  \n",
    "        return  \n",
    "    # 检查是否是目录  \n",
    "    if not os.path.isdir(directory_path):  \n",
    "        print(f\"{directory_path} 不是目录。\")  \n",
    "        return  \n",
    "    \n",
    "    # 获取目录中的所有内容  \n",
    "    for item in os.listdir(directory_path):  \n",
    "        item_path = os.path.join(directory_path, item)  \n",
    "        try:  \n",
    "            # 如果是文件，直接删除  \n",
    "            if os.path.isfile(item_path):  \n",
    "                os.remove(item_path)  \n",
    "                # print(f\"已删除文件：{item_path}\")  \n",
    "            # 如果是目录，递归删除  \n",
    "            elif os.path.isdir(item_path):  \n",
    "                shutil.rmtree(item_path)  \n",
    "                print(f\"已删除目录：{item_path}\")  \n",
    "        except Exception as e:  \n",
    "            print(f\"无法删除 {item_path}，错误信息：{str(e)}\")  \n",
    "    \n",
    "    print(f\"已清空目录：{directory_path}\")  \n",
    "\n",
    "# 示例用法，替换为你要清空的目录路径  \n",
    "directory_path = \"dataset/n02101006\"  \n",
    "delete_all_in_dir(directory_path) "
   ]
  },
  {
   "cell_type": "code",
   "execution_count": null,
   "id": "d145c1d6-4c02-4429-9431-722072f3e64d",
   "metadata": {},
   "outputs": [],
   "source": []
  }
 ],
 "metadata": {
  "kernelspec": {
   "display_name": "Python 3 (ipykernel)",
   "language": "python",
   "name": "python3"
  },
  "language_info": {
   "codemirror_mode": {
    "name": "ipython",
    "version": 3
   },
   "file_extension": ".py",
   "mimetype": "text/x-python",
   "name": "python",
   "nbconvert_exporter": "python",
   "pygments_lexer": "ipython3",
   "version": "3.11.8"
  }
 },
 "nbformat": 4,
 "nbformat_minor": 5
}
